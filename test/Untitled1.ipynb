{
 "cells": [
  {
   "cell_type": "code",
   "execution_count": 11,
   "metadata": {
    "scrolled": true
   },
   "outputs": [
    {
     "name": "stdout",
     "output_type": "stream",
     "text": [
      "<a href=\"/tupian/heye_v56613/\" title=\"可爱的猫鼬图片(16张)\" target=\"_blank\">\n",
      "/tupian/heye_v56613/\n"
     ]
    }
   ],
   "source": [
    "import re\n",
    "import requests\n",
    "from bs4 import BeautifulSoup\n",
    "\n",
    "s = '<a href=\"/tupian/heye_v56613/\" title=\"可爱的猫鼬图片(16张)\" target=\"_blank\">'\n",
    "print(s)\n",
    "url = re.findall(r'^<a href=\"([^<>]\\S.*?)\" title=\".*?\" target=\"_blank\">$', s, re.S)\n",
    "\n",
    "for u in url:\n",
    "    print(u)"
   ]
  },
  {
   "cell_type": "code",
   "execution_count": 12,
   "metadata": {},
   "outputs": [
    {
     "name": "stdout",
     "output_type": "stream",
     "text": [
      "<class 'str'>\n",
      "<class 'str'>\n",
      "<class 'str'>\n",
      "<class 'str'>\n",
      "<class 'str'>\n",
      "<class 'str'>\n",
      "<class 'str'>\n",
      "<class 'str'>\n",
      "<class 'str'>\n",
      "<class 'str'>\n",
      "<class 'str'>\n",
      "<class 'str'>\n",
      "<class 'str'>\n",
      "<class 'str'>\n",
      "<class 'str'>\n",
      "<class 'str'>\n",
      "<class 'str'>\n",
      "<class 'str'>\n"
     ]
    }
   ],
   "source": [
    "resp = requests.get('https://www.ivsky.com/tupian/dongwutupian/', timeout=5)\n",
    "soup = BeautifulSoup(resp.text, 'lxml')\n",
    "#print(soup.select('.il_img') )\n",
    "#text = soup.select('.il_img')\n",
    "\n",
    "# 先定位父节点\n",
    "text = soup.find_all('div', attrs={'class':'il_img'})\n",
    "\n",
    "# 定位子节点\n",
    "children = []\n",
    "for tag in text:\n",
    "    children += tag.find_all('a')\n",
    "    #print(children)\n",
    "    \n",
    "# 获取所有子节点的链接\n",
    "for link in children:\n",
    "    print(type(link['href']))\n",
    "\n",
    "urls = []\n",
    "for s in text:\n",
    "    pass\n",
    "    #print(str(s))\n",
    "    #urls += re.match(r'<a href=\"([^<>()]\\S.*?)\" title=\".*?\" target=\"_blank\">', s)\n",
    "#print(urls)"
   ]
  }
 ],
 "metadata": {
  "kernelspec": {
   "display_name": "Python 3",
   "language": "python",
   "name": "python3"
  },
  "language_info": {
   "codemirror_mode": {
    "name": "ipython",
    "version": 3
   },
   "file_extension": ".py",
   "mimetype": "text/x-python",
   "name": "python",
   "nbconvert_exporter": "python",
   "pygments_lexer": "ipython3",
   "version": "3.7.4"
  }
 },
 "nbformat": 4,
 "nbformat_minor": 2
}
