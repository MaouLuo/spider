{
 "cells": [
  {
   "cell_type": "code",
   "execution_count": 28,
   "metadata": {
    "scrolled": true
   },
   "outputs": [
    {
     "name": "stdout",
     "output_type": "stream",
     "text": [
      "<a href=\"/tupian/heye_v56613/\" title=\"可爱的猫鼬图片(16张)\" target=\"_blank\">\n",
      "/tupian/heye_v56613/\n"
     ]
    }
   ],
   "source": [
    "import re\n",
    "import requests\n",
    "from bs4 import BeautifulSoup\n",
    "\n",
    "s = '<a href=\"/tupian/heye_v56613/\" title=\"可爱的猫鼬图片(16张)\" target=\"_blank\">'\n",
    "print(s)\n",
    "url = re.findall(r'^<a href=\"([^<>]\\S.*?)\" title=\".*?\" target=\"_blank\">$', s, re.S)\n",
    "\n",
    "for u in url:\n",
    "    print(u)"
   ]
  },
  {
   "cell_type": "code",
   "execution_count": 87,
   "metadata": {},
   "outputs": [
    {
     "name": "stdout",
     "output_type": "stream",
     "text": [
      "/tupian/heye_v56613/\n",
      "/tupian/yiqun_tuoniao_v56614/\n",
      "/tupian/tuoniao_v56596/\n",
      "/tupian/banma_v56594/\n",
      "/tupian/changjinglu_v56595/\n",
      "/tupian/jinli_jinyu_v56592/\n",
      "/tupian/tuoniao_v56549/\n",
      "/tupian/yuqun_v56527/\n",
      "/tupian/zhameng_v56524/\n",
      "/tupian/baikongque_v56520/\n",
      "/tupian/shudaixiong_v56518/\n",
      "/tupian/honghese_songshu_v56519/\n",
      "/tupian/bailu_v56517/\n",
      "/tupian/luci_v56511/\n",
      "/tupian/baihu_v56509/\n",
      "/tupian/hubanmao_v56501/\n",
      "/tupian/tuolu_v56496/\n",
      "/tupian/caodi_banma_v56495/\n"
     ]
    }
   ],
   "source": [
    "resp = requests.get('https://www.ivsky.com/tupian/dongwutupian/', timeout=5)\n",
    "soup = BeautifulSoup(resp.text, 'lxml')\n",
    "#print(soup.select('.il_img') )\n",
    "#text = soup.select('.il_img')\n",
    "\n",
    "# 先定位父节点\n",
    "text = soup.find_all('div', attrs={'class':'il_img'})\n",
    "\n",
    "# 定位子节点\n",
    "children = []\n",
    "for c in text:\n",
    "    children += c.find_all('a')\n",
    "\n",
    "# 获取所有子节点的链接\n",
    "for c in children:\n",
    "    print(c['href'])\n",
    "\n",
    "urls = []\n",
    "for s in text:\n",
    "    pass\n",
    "    #print(str(s))\n",
    "    #urls += re.match(r'<a href=\"([^<>()]\\S.*?)\" title=\".*?\" target=\"_blank\">', s)\n",
    "#print(urls)"
   ]
  }
 ],
 "metadata": {
  "kernelspec": {
   "display_name": "Python 3",
   "language": "python",
   "name": "python3"
  },
  "language_info": {
   "codemirror_mode": {
    "name": "ipython",
    "version": 3
   },
   "file_extension": ".py",
   "mimetype": "text/x-python",
   "name": "python",
   "nbconvert_exporter": "python",
   "pygments_lexer": "ipython3",
   "version": "3.7.4"
  }
 },
 "nbformat": 4,
 "nbformat_minor": 2
}
