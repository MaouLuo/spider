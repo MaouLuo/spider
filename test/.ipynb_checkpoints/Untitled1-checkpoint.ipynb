{
 "cells": [
  {
   "cell_type": "code",
   "execution_count": 5,
   "metadata": {
    "scrolled": true
   },
   "outputs": [
    {
     "name": "stdout",
     "output_type": "stream",
     "text": [
      "<a href=\"/tupian/heye_v56613/\" title=\"可爱的猫鼬图片(16张)\" target=\"_blank\">\n",
      "/tupian/heye_v56613/\n"
     ]
    }
   ],
   "source": [
    "import re\n",
    "import requests\n",
    "from bs4 import BeautifulSoup\n",
    "\n",
    "s = '<a href=\"/tupian/heye_v56613/\" title=\"可爱的猫鼬图片(16张)\" target=\"_blank\">'\n",
    "print(s)\n",
    "url = re.findall(r'^<a href=\"([^<>]\\S.*?)\" title=\".*?\" target=\"_blank\">$', s, re.S)\n",
    "\n",
    "for u in url:\n",
    "    print(u)"
   ]
  },
  {
   "cell_type": "code",
   "execution_count": 6,
   "metadata": {},
   "outputs": [
    {
     "ename": "TypeError",
     "evalue": "list indices must be integers or slices, not str",
     "output_type": "error",
     "traceback": [
      "\u001b[1;31m---------------------------------------------------------------------------\u001b[0m",
      "\u001b[1;31mTypeError\u001b[0m                                 Traceback (most recent call last)",
      "\u001b[1;32m<ipython-input-6-4b1df79795c8>\u001b[0m in \u001b[0;36m<module>\u001b[1;34m\u001b[0m\n\u001b[0;32m     10\u001b[0m \u001b[0mchildren\u001b[0m \u001b[1;33m=\u001b[0m \u001b[1;33m[\u001b[0m\u001b[1;33m]\u001b[0m\u001b[1;33m\u001b[0m\u001b[1;33m\u001b[0m\u001b[0m\n\u001b[0;32m     11\u001b[0m \u001b[1;32mfor\u001b[0m \u001b[0mc\u001b[0m \u001b[1;32min\u001b[0m \u001b[0mtext\u001b[0m\u001b[1;33m:\u001b[0m\u001b[1;33m\u001b[0m\u001b[1;33m\u001b[0m\u001b[0m\n\u001b[1;32m---> 12\u001b[1;33m     \u001b[0mchildren\u001b[0m \u001b[1;33m+=\u001b[0m \u001b[0mc\u001b[0m\u001b[1;33m.\u001b[0m\u001b[0mfind_all\u001b[0m\u001b[1;33m(\u001b[0m\u001b[1;34m'a'\u001b[0m\u001b[1;33m)\u001b[0m\u001b[1;33m[\u001b[0m\u001b[1;34m'href'\u001b[0m\u001b[1;33m]\u001b[0m\u001b[1;33m\u001b[0m\u001b[1;33m\u001b[0m\u001b[0m\n\u001b[0m\u001b[0;32m     13\u001b[0m     \u001b[0mprint\u001b[0m\u001b[1;33m(\u001b[0m\u001b[0mchildren\u001b[0m\u001b[1;33m)\u001b[0m\u001b[1;33m\u001b[0m\u001b[1;33m\u001b[0m\u001b[0m\n\u001b[0;32m     14\u001b[0m \u001b[1;33m\u001b[0m\u001b[0m\n",
      "\u001b[1;31mTypeError\u001b[0m: list indices must be integers or slices, not str"
     ]
    }
   ],
   "source": [
    "resp = requests.get('https://www.ivsky.com/tupian/dongwutupian/', timeout=5)\n",
    "soup = BeautifulSoup(resp.text, 'lxml')\n",
    "#print(soup.select('.il_img') )\n",
    "#text = soup.select('.il_img')\n",
    "\n",
    "# 先定位父节点\n",
    "text = soup.find_all('div', attrs={'class':'il_img'})\n",
    "\n",
    "# 定位子节点\n",
    "children = []\n",
    "for c in text:\n",
    "    children += c.find_all('a')\n",
    "    print(children)\n",
    "    \n",
    "# 获取所有子节点的链接\n",
    "#for c in children:\n",
    "#    print(c['href'])\n",
    "\n",
    "urls = []\n",
    "for s in text:\n",
    "    pass\n",
    "    #print(str(s))\n",
    "    #urls += re.match(r'<a href=\"([^<>()]\\S.*?)\" title=\".*?\" target=\"_blank\">', s)\n",
    "#print(urls)"
   ]
  }
 ],
 "metadata": {
  "kernelspec": {
   "display_name": "Python 3",
   "language": "python",
   "name": "python3"
  },
  "language_info": {
   "codemirror_mode": {
    "name": "ipython",
    "version": 3
   },
   "file_extension": ".py",
   "mimetype": "text/x-python",
   "name": "python",
   "nbconvert_exporter": "python",
   "pygments_lexer": "ipython3",
   "version": "3.7.4"
  }
 },
 "nbformat": 4,
 "nbformat_minor": 2
}
