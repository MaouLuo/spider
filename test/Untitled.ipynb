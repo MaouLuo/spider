{
 "cells": [
  {
   "cell_type": "code",
   "execution_count": 61,
   "metadata": {},
   "outputs": [],
   "source": [
    "import requests\n",
    "import threading\n",
    "import re\n",
    "import time\n",
    "from bs4 import BeautifulSoup"
   ]
  },
  {
   "cell_type": "code",
   "execution_count": 55,
   "metadata": {},
   "outputs": [],
   "source": [
    "# 存放图组列表路径\n",
    "urls = []\n",
    "\n",
    "# 存放图组路径\n",
    "g_urls = []\n",
    "\n",
    "# 初始化线程锁\n",
    "g_lock = threading.Lock()"
   ]
  },
  {
   "cell_type": "code",
   "execution_count": 56,
   "metadata": {},
   "outputs": [],
   "source": [
    "class Spider():\n",
    "    def __init__(self, target_url, headers):\n",
    "        self.target_url = target_url\n",
    "        self.headers = headers\n",
    "\n",
    "\t# 获取所有url\n",
    "    def get_urls(self, start_page, end_page):\n",
    "        global urls\n",
    "        for i in range(start_page, end_page+1):\n",
    "            if i == 1:\n",
    "                url = 'https://www.ivsky.com/tupian/dongwutupian/'\n",
    "            else:\n",
    "                url = self.target_url % i\n",
    "            urls.append(url)"
   ]
  },
  {
   "cell_type": "code",
   "execution_count": 64,
   "metadata": {},
   "outputs": [],
   "source": [
    "# 生产者，从每个列表页提取图组路径\n",
    "class Producer(threading.Thread):\n",
    "\n",
    "    def run(self):\n",
    "        headers = {'User-Agent' : 'Mozilla/5.0 (X11; Linux x86_64; rv:52.0) Gecko.20100101 Firefox/52.0' , \n",
    "                'HOST' : 'www.ivsky.com'}\n",
    "        global urls\n",
    "        while len(urls) > 0 :\n",
    "            g_lock.acquire() # 上锁\n",
    "            page_url = urls.pop()\n",
    "            g_lock.release() # 解锁\n",
    "\n",
    "            try:\n",
    "                print('分析' + page_url)\n",
    "                resp = requests.get(page_url, headers=headers, timeout=5)\n",
    "                #print(resp.text)\n",
    "\n",
    "                # re.s 当文本有多行时会作为一行进行正则，否则默认为对单行正则\n",
    "                # <a href=\"/tupian/heye_v56613/\" title=\"可爱的猫鼬图片(16张)\" target=\"_blank\">\n",
    "                # <img src=\"//img.ivsky.com/img/tupian/li/201906/12/Hippopx__7__71591.jpg\" alt=\"可爱的猫鼬图片\"></a>\n",
    "                #all_img_url = re.findall(r'<a href=\"([^<>()]\\S.*?)\" title=\"[^<>]\\S.*?\" target=\"_blank\">', resp.text)\n",
    "                # 定位子节点\n",
    "                children = []\n",
    "                for c in text:\n",
    "                    children += c.find_all('a')\n",
    "\n",
    "                # 获取所有子节点的链接\n",
    "                for c in children:\n",
    "                    print(c['href'])\n",
    "\n",
    "                global g_urls\n",
    "                g_lock.acquire()\n",
    "                g_urls += all_img_url\n",
    "                print(g_urls)\n",
    "                g_lock.release()\n",
    "                time.sleep(0.5)\n",
    "            except:\n",
    "                pass"
   ]
  },
  {
   "cell_type": "code",
   "execution_count": 58,
   "metadata": {},
   "outputs": [
    {
     "name": "stdout",
     "output_type": "stream",
     "text": [
      "['https://www.ivsky.com/tupian/dongwutupian/', 'https://www.ivsky.com/tupian/dongwutupian/index_2.html']\n",
      "分析https://www.ivsky.com/tupian/dongwutupian/index_2.html\n",
      "['https://www.ivsky.com\">天堂图片网</a></div><ul id=\"menu\"><li><a href=\"/\">首页</a></li><li><a href=\"/tupian/\">图片大全</a></li><li><a href=\"/bizhi/\">桌面壁纸</a></li></ul><div id=\"search\"><div class=\"inp\"><input type=\"text\" id=\"ser_inp\" class=\"ser_inp\" /></div><div class=\"inp-btn\"><input type=\"submit\" value=\"\" id=\"ser_btn\" class=\"ser_btn\" /></div></div><div id=\"login\"></div></div><div class=\"hbg\"></div></div><div class=\"box\"><div id=\"alltop\"><script>dy(\"alltop\");</script></div><div id=\"tplisttop1\"><script>dy(\"tplisttop1\");</script></div><div id=\"tplisttop2\"><script>dy(\"tplisttop2\");</script></div></div><div class=\"box\"><div class=\"pos\"><a href=\\'https://www.ivsky.com/\\'>首页</a> > <a href=\"/tupian/\">图片大全</a> > <a href=\"/tupian/dongwutupian/index_2.html\">动物图片 - 宠物图片 - 野生动物图片</a> / 第2页</div><div class=\"left\"><div class=\"sort\"><ul class=\"tpmenu\"><li class=\"s1\"><a href=\"/tupian/', '/tupian/daishu_v56494/', '/tupian/eyu_v56489/', '/tupian/eyu_v56489/', '/tupian/beijixiong_v56490/', '/tupian/beijixiong_v56490/', '/tupian/zhuye_daxiongmao_v56486/', '/tupian/zhuye_daxiongmao_v56486/', '/tupian/niaochao_niaodan_v56483/', '/tupian/niaochao_niaodan_v56483/', '/tupian/douniuquan_v56482/', '/tupian/douniuquan_v56482/', '/tupian/xiongshi_v56466/', '/tupian/xiongshi_v56466/', '/tupian/hupi_yingwu_v56461/', '/tupian/hupi_yingwu_v56461/', '/tupian/xiyi_v56444/', '/tupian/xiyi_v56444/', '/tupian/konglong_v56443/', '/tupian/konglong_v56443/', '/tupian/haiou_v56439/', '/tupian/haiou_v56439/', '/tupian/hema_v56426/', '/tupian/hema_v56426/', '/tupian/banma_v56417/', '/tupian/banma_v56417/', '/tupian/huli_v56410/', '/tupian/huli_v56410/', '/tupian/zhiji_v56405/', '/tupian/zhiji_v56405/', '/tupian/caimi_mifeng_v56388/', '/tupian/caimi_mifeng_v56388/', '/tupian/jinmao_xunhuiquan_v56375/', '/tupian/jinmao_xunhuiquan_v56375/', '/tupian/dengling_v56370/', '/tupian/dengling_v56370/', '/tupian/yiqun_tuoniao_t46326/']\n",
      "分析https://www.ivsky.com/tupian/dongwutupian/\n",
      "['https://www.ivsky.com\">天堂图片网</a></div><ul id=\"menu\"><li><a href=\"/\">首页</a></li><li><a href=\"/tupian/\">图片大全</a></li><li><a href=\"/bizhi/\">桌面壁纸</a></li></ul><div id=\"search\"><div class=\"inp\"><input type=\"text\" id=\"ser_inp\" class=\"ser_inp\" /></div><div class=\"inp-btn\"><input type=\"submit\" value=\"\" id=\"ser_btn\" class=\"ser_btn\" /></div></div><div id=\"login\"></div></div><div class=\"hbg\"></div></div><div class=\"box\"><div id=\"alltop\"><script>dy(\"alltop\");</script></div><div id=\"tplisttop1\"><script>dy(\"tplisttop1\");</script></div><div id=\"tplisttop2\"><script>dy(\"tplisttop2\");</script></div></div><div class=\"box\"><div class=\"pos\"><a href=\\'https://www.ivsky.com/\\'>首页</a> > <a href=\"/tupian/\">图片大全</a> > <a href=\"/tupian/dongwutupian/index_2.html\">动物图片 - 宠物图片 - 野生动物图片</a> / 第2页</div><div class=\"left\"><div class=\"sort\"><ul class=\"tpmenu\"><li class=\"s1\"><a href=\"/tupian/', '/tupian/daishu_v56494/', '/tupian/eyu_v56489/', '/tupian/eyu_v56489/', '/tupian/beijixiong_v56490/', '/tupian/beijixiong_v56490/', '/tupian/zhuye_daxiongmao_v56486/', '/tupian/zhuye_daxiongmao_v56486/', '/tupian/niaochao_niaodan_v56483/', '/tupian/niaochao_niaodan_v56483/', '/tupian/douniuquan_v56482/', '/tupian/douniuquan_v56482/', '/tupian/xiongshi_v56466/', '/tupian/xiongshi_v56466/', '/tupian/hupi_yingwu_v56461/', '/tupian/hupi_yingwu_v56461/', '/tupian/xiyi_v56444/', '/tupian/xiyi_v56444/', '/tupian/konglong_v56443/', '/tupian/konglong_v56443/', '/tupian/haiou_v56439/', '/tupian/haiou_v56439/', '/tupian/hema_v56426/', '/tupian/hema_v56426/', '/tupian/banma_v56417/', '/tupian/banma_v56417/', '/tupian/huli_v56410/', '/tupian/huli_v56410/', '/tupian/zhiji_v56405/', '/tupian/zhiji_v56405/', '/tupian/caimi_mifeng_v56388/', '/tupian/caimi_mifeng_v56388/', '/tupian/jinmao_xunhuiquan_v56375/', '/tupian/jinmao_xunhuiquan_v56375/', '/tupian/dengling_v56370/', '/tupian/dengling_v56370/', '/tupian/yiqun_tuoniao_t46326/', 'https://www.ivsky.com\">天堂图片网</a></div><ul id=\"menu\"><li><a href=\"/\">首页</a></li><li><a href=\"/tupian/\">图片大全</a></li><li><a href=\"/bizhi/\">桌面壁纸</a></li></ul><div id=\"search\"><div class=\"inp\"><input type=\"text\" id=\"ser_inp\" class=\"ser_inp\" /></div><div class=\"inp-btn\"><input type=\"submit\" value=\"\" id=\"ser_btn\" class=\"ser_btn\" /></div></div><div id=\"login\"></div></div><div class=\"hbg\"></div></div><div class=\"box\"><div id=\"alltop\"><script>dy(\"alltop\");</script></div><div id=\"tplisttop1\"><script>dy(\"tplisttop1\");</script></div><div id=\"tplisttop2\"><script>dy(\"tplisttop2\");</script></div></div><div class=\"box\"><div class=\"pos\"><a href=\\'https://www.ivsky.com/\\'>首页</a> > <a href=\"/tupian/\">图片大全</a> > <a href=\"/tupian/dongwutupian/\">动物图片 - 宠物图片 - 野生动物图片</a> </div><div class=\"left\"><div class=\"sort\"><ul class=\"tpmenu\"><li class=\"s1\"><a href=\"/tupian/', '/tupian/heye_v56613/', '/tupian/yiqun_tuoniao_v56614/', '/tupian/yiqun_tuoniao_v56614/', '/tupian/tuoniao_v56596/', '/tupian/tuoniao_v56596/', '/tupian/banma_v56594/', '/tupian/banma_v56594/', '/tupian/changjinglu_v56595/', '/tupian/changjinglu_v56595/', '/tupian/jinli_jinyu_v56592/', '/tupian/jinli_jinyu_v56592/', '/tupian/tuoniao_v56549/', '/tupian/tuoniao_v56549/', '/tupian/yuqun_v56527/', '/tupian/yuqun_v56527/', '/tupian/zhameng_v56524/', '/tupian/zhameng_v56524/', '/tupian/baikongque_v56520/', '/tupian/baikongque_v56520/', '/tupian/shudaixiong_v56518/', '/tupian/shudaixiong_v56518/', '/tupian/honghese_songshu_v56519/', '/tupian/honghese_songshu_v56519/', '/tupian/bailu_v56517/', '/tupian/bailu_v56517/', '/tupian/luci_v56511/', '/tupian/luci_v56511/', '/tupian/baihu_v56509/', '/tupian/baihu_v56509/', '/tupian/hubanmao_v56501/', '/tupian/hubanmao_v56501/', '/tupian/tuolu_v56496/', '/tupian/tuolu_v56496/', '/tupian/caodi_banma_v56495/', '/tupian/caodi_banma_v56495/', '/tupian/yiqun_tuoniao_t46326/']\n"
     ]
    }
   ],
   "source": [
    "if __name__ == '__main__':\n",
    "    headers = {'User-Agent' : 'Mozilla/5.0 (X11; Linux x86_64; rv:52.0) Gecko.20100101 Firefox/52.0' , \n",
    "                'HOST' : 'www.ivsky.com'}\n",
    "    target_url = 'https://www.ivsky.com/tupian/dongwutupian/index_%d.html'\n",
    "\n",
    "    spider = Spider(target_url, headers)\n",
    "    spider.get_urls(1, 2)\n",
    "    print(urls)\n",
    "\n",
    "    for _ in range(2):\n",
    "        t = Producer()\n",
    "        t.start()\n",
    "        t.join()"
   ]
  },
  {
   "cell_type": "code",
   "execution_count": null,
   "metadata": {},
   "outputs": [],
   "source": []
  }
 ],
 "metadata": {
  "kernelspec": {
   "display_name": "Python 3",
   "language": "python",
   "name": "python3"
  },
  "language_info": {
   "codemirror_mode": {
    "name": "ipython",
    "version": 3
   },
   "file_extension": ".py",
   "mimetype": "text/x-python",
   "name": "python",
   "nbconvert_exporter": "python",
   "pygments_lexer": "ipython3",
   "version": "3.7.4"
  }
 },
 "nbformat": 4,
 "nbformat_minor": 2
}
